{
 "cells": [
  {
   "cell_type": "markdown",
   "metadata": {},
   "source": [
    "## t4-summaries-push\n",
    "\n",
    "Builds a few simple dataset files which I later push to the `/summaries/` folder in the T4 repo. These dataset files are used by Vega definition files also included in the repo to generate some nice interactive charts that are part of the overall bucket summary."
   ]
  },
  {
   "cell_type": "code",
   "execution_count": null,
   "metadata": {},
   "outputs": [],
   "source": [
    "import pandas as pd\n",
    "a = pd.read_csv(\"data/metadata/train-annotations-bbox.csv\", index_col=0)\n",
    "b = pd.read_csv(\"data/metadata/train-annotations-human-imagelabels-boxable.csv\", index_col=0)\n",
    "c = pd.read_csv(\"data/metadata/train-images-ids.csv\", index_col=0)"
   ]
  },
  {
   "cell_type": "markdown",
   "metadata": {},
   "source": [
    "### Image labels\n",
    "\n",
    "This segment generates the data for a summary of the most common image labels."
   ]
  },
  {
   "cell_type": "code",
   "execution_count": null,
   "metadata": {},
   "outputs": [],
   "source": [
    "l = b['LabelName'].value_counts().head(20)\n",
    "l = pd.DataFrame(l)\n",
    "l.index.name = \"label_id\"\n",
    "l.columns = ['label_count']"
   ]
  },
  {
   "cell_type": "code",
   "execution_count": null,
   "metadata": {},
   "outputs": [],
   "source": [
    "l.head()"
   ]
  },
  {
   "cell_type": "code",
   "execution_count": null,
   "metadata": {},
   "outputs": [],
   "source": [
    "labels = pd.read_csv(\"../data/metadata/image-class-names.csv\", index_col=0)"
   ]
  },
  {
   "cell_type": "code",
   "execution_count": null,
   "metadata": {},
   "outputs": [],
   "source": [
    "labels.head()"
   ]
  },
  {
   "cell_type": "code",
   "execution_count": null,
   "metadata": {},
   "outputs": [],
   "source": [
    "labels.columns = ['label_id', 'label_name']\n",
    "labels = labels.set_index('label_id')"
   ]
  },
  {
   "cell_type": "code",
   "execution_count": null,
   "metadata": {},
   "outputs": [],
   "source": [
    "l = b['LabelName'].value_counts()\n",
    "l = pd.DataFrame(l)\n",
    "l.index.name = \"label_id\"\n",
    "l.columns = ['label_count']\n",
    "l = l.join(labels)"
   ]
  },
  {
   "cell_type": "code",
   "execution_count": null,
   "metadata": {},
   "outputs": [],
   "source": [
    "mkdir ../data/summaries/"
   ]
  },
  {
   "cell_type": "code",
   "execution_count": null,
   "metadata": {},
   "outputs": [],
   "source": [
    "l.to_csv(\"../data/summaries/top-image-labels.csv\")"
   ]
  },
  {
   "cell_type": "markdown",
   "metadata": {},
   "source": [
    "### Label hierarchy\n",
    "\n",
    "Another summary view, this one of the overall label hierarchy."
   ]
  },
  {
   "cell_type": "code",
   "execution_count": null,
   "metadata": {},
   "outputs": [],
   "source": [
    "import requests\n",
    "\n",
    "r = requests.get(\n",
    "    \"https://storage.googleapis.com/openimages/2018_04/bbox_labels_600_hierarchy.json\"\n",
    ")\n",
    "hierarchy = r.json()"
   ]
  },
  {
   "cell_type": "code",
   "execution_count": null,
   "metadata": {},
   "outputs": [],
   "source": [
    "l2 = b['LabelName'].value_counts()\n",
    "l2 = pd.DataFrame(l2)\n",
    "l2.index.name = \"label_id\"\n",
    "l2.columns = ['label_count']\n",
    "l2 = l2.join(labels)"
   ]
  },
  {
   "cell_type": "code",
   "execution_count": 1,
   "metadata": {},
   "outputs": [],
   "source": [
    "# Reformat the provided hierarchy into something immediately parsable by the Vega built-ins.\n",
    "def reify(node, parent=None, ids_already_seen=None):\n",
    "    \"\"\"\n",
    "    Reformats the structured node hierarchy provided by the Google Image Dataset landing page\n",
    "    into a list of nodes with parent IDs that is more immediately parsable using Vega.\n",
    "    \n",
    "    Node IDs are checked and whitelisted to make sure they are only added to the list once,\n",
    "    because for some reason the hierarchy provided by the dataset providers allows child nodes\n",
    "    with multiple parents, leading to cycles.\n",
    "    \"\"\"\n",
    "    \n",
    "    if not ids_already_seen:\n",
    "        ids_already_seen = set()\n",
    "        \n",
    "    out = []\n",
    "    \n",
    "    if node['LabelName'] not in ids_already_seen:\n",
    "        ids_already_seen.update({node['LabelName']})\n",
    "        entry = dict()\n",
    "        entry['id'] = node['LabelName']\n",
    "\n",
    "        if parent:\n",
    "            entry['parent'] = parent\n",
    "\n",
    "        try:\n",
    "            entry['name'] = l.loc[entry['id']].label_name\n",
    "        except KeyError:\n",
    "            entry['name'] = 'Object'\n",
    "\n",
    "        out.append(entry)\n",
    "\n",
    "        if 'Subcategory' in node.keys():\n",
    "            for subnode in node['Subcategory']:\n",
    "                out += reify(subnode, parent=node['LabelName'], ids_already_seen=ids_already_seen)\n",
    "        \n",
    "    return out"
   ]
  },
  {
   "cell_type": "code",
   "execution_count": null,
   "metadata": {},
   "outputs": [],
   "source": [
    "hierarchy_transform = reify(hierarchy)"
   ]
  },
  {
   "cell_type": "code",
   "execution_count": null,
   "metadata": {},
   "outputs": [],
   "source": [
    "import json\n",
    "with open(\"../data/summaries/image-labels-transformed.json\", \"w\") as fp:\n",
    "    json.dump(hierarchy_transform, fp, indent=4)"
   ]
  }
 ],
 "metadata": {
  "kernelspec": {
   "display_name": "Python 3",
   "language": "python",
   "name": "python3"
  },
  "language_info": {
   "codemirror_mode": {
    "name": "ipython",
    "version": 3
   },
   "file_extension": ".py",
   "mimetype": "text/x-python",
   "name": "python",
   "nbconvert_exporter": "python",
   "pygments_lexer": "ipython3",
   "version": "3.6.6"
  }
 },
 "nbformat": 4,
 "nbformat_minor": 2
}
