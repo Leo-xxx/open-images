{
 "cells": [
  {
   "cell_type": "markdown",
   "metadata": {},
   "source": [
    "## Building an Open Images classifier dataset\n",
    "\n",
    "In this notebook we will transform the metadata and image files that we have into a dataset file formatted for input into a machine learning model."
   ]
  },
  {
   "cell_type": "markdown",
   "metadata": {},
   "source": [
    "### Prelude\n",
    "\n",
    "At this point we've already run the script that selected relevant images and and placed them in the `../data/images/` directory. "
   ]
  },
  {
   "cell_type": "code",
   "execution_count": 1,
   "metadata": {},
   "outputs": [
    {
     "name": "stdout",
     "output_type": "stream",
     "text": [
      "10006714784_9337d5d0e1_o.jpg\r\n",
      "10014143174_1de79c8af8_o.jpg\r\n",
      "10022662923_ab0567fe1a_o.jpg\r\n",
      "10052146336_dc364e0a10_o.jpg\r\n",
      "1006312339_d306fc933d_o.jpg\r\n",
      "10065094283_0db2b64b2d_o.jpg\r\n",
      "10102600246_6385283711_o.jpg\r\n",
      "10123662565_4ab592b952_o.jpg\r\n",
      "101266618_99a28a70ff_o.jpg\r\n",
      "10148587244_f576b88c8f_o.jpg\r\n"
     ]
    }
   ],
   "source": [
    "%ls ../data/images/ | head"
   ]
  },
  {
   "cell_type": "markdown",
   "metadata": {},
   "source": [
    "To do that, we either executed `src/openimager.py` as a script (e.g. `python openimager.py \"sandwich\" \"hot dog\" \"hamburger\"`) or used it as a module (using `openimager.download`). TODO: adapt `download` with a folder target parameter."
   ]
  },
  {
   "cell_type": "markdown",
   "metadata": {},
   "source": [
    "### Packaging the data\n",
    "\n",
    "However, before we can move on to actually training the model, we must subselect the relevant image metadata, and package that up alongside the raw images so that we have a common starting point.\n",
    "\n",
    "The script we wrote for downloading relevant training images does all of the work required, but doesn't save that anywhere because it is solely responsible for downloading images, not for saving metadata to disc.\n",
    "\n",
    "The following segment of code is copied from that routine, and it recreates the relevant metadata.\n",
    "\n",
    "TODO: unify the script and this code cell with a common method for doing this work."
   ]
  },
  {
   "cell_type": "code",
   "execution_count": 2,
   "metadata": {},
   "outputs": [
    {
     "name": "stderr",
     "output_type": "stream",
     "text": [
      "/Users/alex/miniconda3/envs/quilt-open-images-dev/lib/python3.6/site-packages/numpy/lib/arraysetops.py:522: FutureWarning: elementwise comparison failed; returning scalar instead, but in the future will perform elementwise comparison\n",
      "  mask |= (ar1 == a)\n"
     ]
    }
   ],
   "source": [
    "import pandas as pd\n",
    "\n",
    "categories = ['Sandwich', 'Hot dog', 'Hamburger']\n",
    "\n",
    "kwargs = {'header': None, 'names': ['LabelID', 'LabelName']}\n",
    "class_names = pd.read_csv(\"../data/metadata/image-class-names.csv\", **kwargs)\n",
    "train_boxed = pd.read_csv(\"../data/metadata/train-annotations-bbox.csv\", index_col=0)\n",
    "image_ids = pd.read_csv(\"../data/metadata/train-images-ids.csv\", index_col=0)\n",
    "label_map = dict(class_names.set_index('LabelName').loc[categories, 'LabelID']\n",
    "                 .to_frame().reset_index().set_index('LabelID')['LabelName'])\n",
    "label_values = set(label_map.keys())\n",
    "relevant_training_images = train_boxed[train_boxed.LabelName.isin(label_values)]\n",
    "relevant_flickr_urls = (relevant_training_images.set_index('ImageID')\n",
    "                        .join(image_ids.set_index('ImageID'))\n",
    "                        .loc[:, 'OriginalURL'])\n",
    "relevant_flickr_img_metadata = (relevant_training_images.set_index('ImageID').loc[relevant_flickr_urls.index]\n",
    "                                .pipe(lambda df: df.assign(LabelValue=df.LabelName.map(lambda v: label_map[v]))))"
   ]
  },
  {
   "cell_type": "markdown",
   "metadata": {},
   "source": [
    "Now we join this information in a way that lets us map image to metadata entry."
   ]
  },
  {
   "cell_type": "code",
   "execution_count": 3,
   "metadata": {},
   "outputs": [],
   "source": [
    "u_relevant_flickr_urls = pd.Series(relevant_flickr_urls.unique(), \n",
    "                                   index=relevant_flickr_urls.index.unique(),\n",
    "                                   name='OriginalURL')\n",
    "\n",
    "X_meta = (relevant_training_images\n",
    "          .set_index('ImageID')\n",
    "          .join(u_relevant_flickr_urls.map(lambda v: v.split(\"/\")[-1]), how='left')\n",
    "          .reset_index()\n",
    "          .pipe(lambda df: df.assign(LabelName=df.LabelName.map(lambda l: label_map[l]))))"
   ]
  },
  {
   "cell_type": "markdown",
   "metadata": {},
   "source": [
    "The machine learning model takes the raw images as input. In order for that to work, the input images must all be the same size. The boxed images included in this dataset are _not_ all the same size (or orientation, or anything else like that). They are in this way representative of true image classification task out \"in the wild\", as opposed to more templatized image recognition tasks like MNIST and Fashion-MNIST."
   ]
  },
  {
   "cell_type": "code",
   "execution_count": 4,
   "metadata": {},
   "outputs": [],
   "source": [
    "from PIL import Image  # pip install pillow\n",
    "import numpy as np"
   ]
  },
  {
   "cell_type": "code",
   "execution_count": 5,
   "metadata": {},
   "outputs": [],
   "source": [
    "# TODO: write these transformations in sklearn semantics?\n",
    "from skimage.transform import resize\n",
    "\n",
    "def get_image_arr(img):\n",
    "    \"\"\"Given an image URL, returns that image read out from local disk into a numpy array.\"\"\"\n",
    "    return np.asarray(Image.open('../data/images/' + img), dtype='int32')\n",
    "\n",
    "def crop_image_to_bbox(img_arr, XMin, XMax, YMin, YMax):\n",
    "    \"\"\"Given an image array, crops the image to just the bounding box provided.\"\"\"\n",
    "    shape = img_arr.shape\n",
    "    \n",
    "    XMin_x = int(np.floor(XMin*shape[0]))\n",
    "    XMax_x = int(np.ceil(XMax*shape[0]))\n",
    "    YMin_y = int(np.floor(YMin*shape[1]))\n",
    "    YMax_y = int(np.ceil(YMax*shape[1]))\n",
    "    \n",
    "    return img_arr[XMin_x:XMax_x, YMin_y:YMax_y]\n",
    "\n",
    "def resize_img_arr(img_arr):\n",
    "    \"\"\"Given an image array, resizes that image to a standard size (aspect ratio is not preserved).\"\"\"\n",
    "    return resize(img_arr, (128, 128), anti_aliasing=True, mode='constant', preserve_range=True)\n",
    "\n",
    "def is_non_unary_channel(img_arr):\n",
    "    \"\"\"Returns whether or not the given image has multiple channels or not (expect 3: RGB).\"\"\"\n",
    "    return len(img_arr.shape) == 3 and img_arr.shape[2] > 1"
   ]
  },
  {
   "cell_type": "code",
   "execution_count": 6,
   "metadata": {},
   "outputs": [],
   "source": [
    "# TODO: it would be more efficient to broadcast these operations directly on the numpy array(s).\n",
    "\n",
    "def process_chunk(X_meta):\n",
    "    return (X_meta\n",
    "     # use the metadata to select images and generate cropped numpy arrays\n",
    "     .pipe(lambda df: \n",
    "           df.apply(\n",
    "               lambda srs: crop_image_to_bbox(\n",
    "                   get_image_arr(srs.OriginalURL),\n",
    "                   srs.XMin, srs.XMax, srs.YMin, srs.YMax\n",
    "               ), axis='columns')\n",
    "          )\n",
    "     # exclude single-channel (e.g. grayscale) images; these seem to always be Image Not Found placeholders\n",
    "     .pipe(lambda srs: srs[srs.map(is_non_unary_channel)])\n",
    "     # resize the images to 128x128\n",
    "     .map(resize_img_arr)\n",
    "     # round to integer values, and then store as unsigned integers\n",
    "     .map(lambda arr: np.round(arr))\n",
    "     .map(lambda arr: arr.astype('uint8'))\n",
    "     # linearize the pixel values for the purposes of saving to disk\n",
    "     .map(np.ravel)\n",
    "     # construct a DataFrame out of the pixel values\n",
    "     .pipe(lambda srs: pd.DataFrame(np.vstack(srs.values)).add_prefix('p'))\n",
    "     .join(X_meta.reset_index(drop=True)\n",
    "           .loc[:, ['LabelName', 'ImageID', 'IsOccluded', 'IsTruncated', 'IsGroupOf', 'IsDepiction', 'IsInside']])\n",
    "     # move ImageID to first axis of columns\n",
    "     .set_index('ImageID').reset_index()\n",
    "     # drop index labels with -1 values, incidating \"missing\" on IsOccluded et. al.\n",
    "     # these always appear together and there are just 33 images with these values missing\n",
    "     .query(\"IsOccluded >= 0\")\n",
    "     # store the remaining labels as binary boolean values\n",
    "     .astype({label: np.bool for label in ['IsOccluded', 'IsTruncated', 'IsGroupOf', 'IsDepiction', 'IsInside']})\n",
    "    )"
   ]
  },
  {
   "cell_type": "code",
   "execution_count": 8,
   "metadata": {
    "scrolled": false
   },
   "outputs": [
    {
     "data": {
      "application/vnd.jupyter.widget-view+json": {
       "model_id": "b56bbf777b60440a90f2e96a31b3e94c",
       "version_major": 2,
       "version_minor": 0
      },
      "text/plain": [
       "HBox(children=(IntProgress(value=0, max=157), HTML(value='')))"
      ]
     },
     "metadata": {},
     "output_type": "display_data"
    },
    {
     "name": "stderr",
     "output_type": "stream",
     "text": [
      "/Users/alex/miniconda3/envs/quilt-open-images-dev/lib/python3.6/site-packages/PIL/TiffImagePlugin.py:763: UserWarning: Possibly corrupt EXIF data.  Expecting to read 285413634 bytes but only got 0. Skipping tag 780\n",
      "  \" Skipping tag %s\" % (size, len(data), tag))\n",
      "/Users/alex/miniconda3/envs/quilt-open-images-dev/lib/python3.6/site-packages/PIL/TiffImagePlugin.py:763: UserWarning: Possibly corrupt EXIF data.  Expecting to read 1239089152 bytes but only got 0. Skipping tag 5\n",
      "  \" Skipping tag %s\" % (size, len(data), tag))\n",
      "/Users/alex/miniconda3/envs/quilt-open-images-dev/lib/python3.6/site-packages/PIL/TiffImagePlugin.py:763: UserWarning: Possibly corrupt EXIF data.  Expecting to read 1238564864 bytes but only got 0. Skipping tag 5\n",
      "  \" Skipping tag %s\" % (size, len(data), tag))\n",
      "/Users/alex/miniconda3/envs/quilt-open-images-dev/lib/python3.6/site-packages/PIL/TiffImagePlugin.py:763: UserWarning: Possibly corrupt EXIF data.  Expecting to read 10485760 bytes but only got 0. Skipping tag 3\n",
      "  \" Skipping tag %s\" % (size, len(data), tag))\n",
      "/Users/alex/miniconda3/envs/quilt-open-images-dev/lib/python3.6/site-packages/PIL/TiffImagePlugin.py:763: UserWarning: Possibly corrupt EXIF data.  Expecting to read 3368026112 bytes but only got 0. Skipping tag 7\n",
      "  \" Skipping tag %s\" % (size, len(data), tag))\n",
      "/Users/alex/miniconda3/envs/quilt-open-images-dev/lib/python3.6/site-packages/PIL/TiffImagePlugin.py:763: UserWarning: Possibly corrupt EXIF data.  Expecting to read 134479872 bytes but only got 0. Skipping tag 7\n",
      "  \" Skipping tag %s\" % (size, len(data), tag))\n",
      "/Users/alex/miniconda3/envs/quilt-open-images-dev/lib/python3.6/site-packages/PIL/TiffImagePlugin.py:763: UserWarning: Possibly corrupt EXIF data.  Expecting to read 1238040576 bytes but only got 0. Skipping tag 10\n",
      "  \" Skipping tag %s\" % (size, len(data), tag))\n",
      "/Users/alex/miniconda3/envs/quilt-open-images-dev/lib/python3.6/site-packages/PIL/TiffImagePlugin.py:763: UserWarning: Possibly corrupt EXIF data.  Expecting to read 1237516288 bytes but only got 0. Skipping tag 5\n",
      "  \" Skipping tag %s\" % (size, len(data), tag))\n",
      "/Users/alex/miniconda3/envs/quilt-open-images-dev/lib/python3.6/site-packages/PIL/TiffImagePlugin.py:763: UserWarning: Possibly corrupt EXIF data.  Expecting to read 196608 bytes but only got 0. Skipping tag 3\n",
      "  \" Skipping tag %s\" % (size, len(data), tag))\n",
      "/Users/alex/miniconda3/envs/quilt-open-images-dev/lib/python3.6/site-packages/PIL/TiffImagePlugin.py:763: UserWarning: Possibly corrupt EXIF data.  Expecting to read 1048576 bytes but only got 0. Skipping tag 3\n",
      "  \" Skipping tag %s\" % (size, len(data), tag))\n",
      "/Users/alex/miniconda3/envs/quilt-open-images-dev/lib/python3.6/site-packages/PIL/TiffImagePlugin.py:763: UserWarning: Possibly corrupt EXIF data.  Expecting to read 1236992000 bytes but only got 0. Skipping tag 5\n",
      "  \" Skipping tag %s\" % (size, len(data), tag))\n",
      "/Users/alex/miniconda3/envs/quilt-open-images-dev/lib/python3.6/site-packages/PIL/TiffImagePlugin.py:763: UserWarning: Possibly corrupt EXIF data.  Expecting to read 3300917248 bytes but only got 0. Skipping tag 7\n",
      "  \" Skipping tag %s\" % (size, len(data), tag))\n",
      "/Users/alex/miniconda3/envs/quilt-open-images-dev/lib/python3.6/site-packages/PIL/TiffImagePlugin.py:763: UserWarning: Possibly corrupt EXIF data.  Expecting to read 65536 bytes but only got 0. Skipping tag 3\n",
      "  \" Skipping tag %s\" % (size, len(data), tag))\n",
      "/Users/alex/miniconda3/envs/quilt-open-images-dev/lib/python3.6/site-packages/PIL/TiffImagePlugin.py:763: UserWarning: Possibly corrupt EXIF data.  Expecting to read 169869312 bytes but only got 0. Skipping tag 4\n",
      "  \" Skipping tag %s\" % (size, len(data), tag))\n",
      "/Users/alex/miniconda3/envs/quilt-open-images-dev/lib/python3.6/site-packages/PIL/TiffImagePlugin.py:763: UserWarning: Possibly corrupt EXIF data.  Expecting to read 127401984 bytes but only got 0. Skipping tag 4\n",
      "  \" Skipping tag %s\" % (size, len(data), tag))\n",
      "/Users/alex/miniconda3/envs/quilt-open-images-dev/lib/python3.6/site-packages/PIL/TiffImagePlugin.py:763: UserWarning: Possibly corrupt EXIF data.  Expecting to read 1236467712 bytes but only got 0. Skipping tag 5\n",
      "  \" Skipping tag %s\" % (size, len(data), tag))\n",
      "/Users/alex/miniconda3/envs/quilt-open-images-dev/lib/python3.6/site-packages/PIL/TiffImagePlugin.py:763: UserWarning: Possibly corrupt EXIF data.  Expecting to read 65536 bytes but only got 18937. Skipping tag 3\n",
      "  \" Skipping tag %s\" % (size, len(data), tag))\n",
      "/Users/alex/miniconda3/envs/quilt-open-images-dev/lib/python3.6/site-packages/PIL/TiffImagePlugin.py:763: UserWarning: Possibly corrupt EXIF data.  Expecting to read 262686 bytes but only got 18931. Skipping tag 0\n",
      "  \" Skipping tag %s\" % (size, len(data), tag))\n",
      "/Users/alex/miniconda3/envs/quilt-open-images-dev/lib/python3.6/site-packages/PIL/TiffImagePlugin.py:763: UserWarning: Possibly corrupt EXIF data.  Expecting to read 393216 bytes but only got 0. Skipping tag 3\n",
      "  \" Skipping tag %s\" % (size, len(data), tag))\n",
      "/Users/alex/miniconda3/envs/quilt-open-images-dev/lib/python3.6/site-packages/PIL/TiffImagePlugin.py:763: UserWarning: Possibly corrupt EXIF data.  Expecting to read 1235943424 bytes but only got 0. Skipping tag 5\n",
      "  \" Skipping tag %s\" % (size, len(data), tag))\n",
      "/Users/alex/miniconda3/envs/quilt-open-images-dev/lib/python3.6/site-packages/PIL/TiffImagePlugin.py:763: UserWarning: Possibly corrupt EXIF data.  Expecting to read 1235419136 bytes but only got 0. Skipping tag 5\n",
      "  \" Skipping tag %s\" % (size, len(data), tag))\n",
      "/Users/alex/miniconda3/envs/quilt-open-images-dev/lib/python3.6/site-packages/PIL/TiffImagePlugin.py:763: UserWarning: Possibly corrupt EXIF data.  Expecting to read 131072 bytes but only got 0. Skipping tag 3\n",
      "  \" Skipping tag %s\" % (size, len(data), tag))\n",
      "/Users/alex/miniconda3/envs/quilt-open-images-dev/lib/python3.6/site-packages/PIL/TiffImagePlugin.py:763: UserWarning: Possibly corrupt EXIF data.  Expecting to read 524288 bytes but only got 0. Skipping tag 4\n",
      "  \" Skipping tag %s\" % (size, len(data), tag))\n",
      "/Users/alex/miniconda3/envs/quilt-open-images-dev/lib/python3.6/site-packages/PIL/TiffImagePlugin.py:763: UserWarning: Possibly corrupt EXIF data.  Expecting to read 1036648448 bytes but only got 18937. Skipping tag 4\n",
      "  \" Skipping tag %s\" % (size, len(data), tag))\n",
      "/Users/alex/miniconda3/envs/quilt-open-images-dev/lib/python3.6/site-packages/PIL/TiffImagePlugin.py:763: UserWarning: Possibly corrupt EXIF data.  Expecting to read 256 bytes but only got 0. Skipping tag 11264\n",
      "  \" Skipping tag %s\" % (size, len(data), tag))\n",
      "/Users/alex/miniconda3/envs/quilt-open-images-dev/lib/python3.6/site-packages/PIL/TiffImagePlugin.py:780: UserWarning: Corrupt EXIF data.  Expecting to read 12 bytes but only got 3. \n",
      "  warnings.warn(str(msg))\n"
     ]
    },
    {
     "name": "stdout",
     "output_type": "stream",
     "text": [
      "\n"
     ]
    }
   ],
   "source": [
    "from tqdm import tqdm_notebook\n",
    "\n",
    "frames = []\n",
    "\n",
    "# this process is chunked b/c reading entire images into numpy arrays is very expensive\n",
    "# you'll run out of memory very easiy because some of the images are very very large\n",
    "for i in tqdm_notebook(range(X_meta.index.max() // 20 + 1)):\n",
    "    n_s, n_e = i * 20, i * 20 + 20\n",
    "    X_meta_fragment = X_meta.iloc[n_s:n_e + 20]\n",
    "    frames.append(process_chunk(X_meta_fragment))"
   ]
  },
  {
   "cell_type": "code",
   "execution_count": 17,
   "metadata": {},
   "outputs": [],
   "source": [
    "!mkdir \"../data/training/\""
   ]
  },
  {
   "cell_type": "code",
   "execution_count": 9,
   "metadata": {},
   "outputs": [],
   "source": [
    "pd.concat(frames).to_csv(\"../data/training/X_meta_concat.csv\")"
   ]
  }
 ],
 "metadata": {
  "kernelspec": {
   "display_name": "Python 3",
   "language": "python",
   "name": "python3"
  },
  "language_info": {
   "codemirror_mode": {
    "name": "ipython",
    "version": 3
   },
   "file_extension": ".py",
   "mimetype": "text/x-python",
   "name": "python",
   "nbconvert_exporter": "python",
   "pygments_lexer": "ipython3",
   "version": "3.6.6"
  }
 },
 "nbformat": 4,
 "nbformat_minor": 2
}
