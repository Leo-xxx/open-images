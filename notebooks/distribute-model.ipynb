{
 "cells": [
  {
   "cell_type": "markdown",
   "metadata": {},
   "source": [
    "## Distributing the model\n",
    "\n",
    "This notebook talks through packaging and distributing the model and training artifacts."
   ]
  },
  {
   "cell_type": "markdown",
   "metadata": {},
   "source": [
    "### Step 1: version control your code\n",
    "\n",
    "Check this code project into a git repository on GitHub. Be sure to include a `.gitignore` which explicitly excludes the data parts of the project."
   ]
  },
  {
   "cell_type": "code",
   "execution_count": 1,
   "metadata": {},
   "outputs": [
    {
     "name": "stdout",
     "output_type": "stream",
     "text": [
      "README.md             \u001b[34mmodels\u001b[m\u001b[m/               \u001b[34mscripts\u001b[m\u001b[m/\r\n",
      "\u001b[34mdata\u001b[m\u001b[m/                 \u001b[34mnotebooks\u001b[m\u001b[m/            \u001b[34msrc\u001b[m\u001b[m/\r\n",
      "environment.yml       quilt_summarize.json  \u001b[34msummaries\u001b[m\u001b[m/\r\n"
     ]
    }
   ],
   "source": [
    "%ls ../"
   ]
  },
  {
   "cell_type": "markdown",
   "metadata": {},
   "source": [
    "### Step 2: version control your environment\n",
    "\n",
    "For this project I used `conda` to version control my environment&mdash;by writing my environment definition to an `environment.yml` file."
   ]
  },
  {
   "cell_type": "code",
   "execution_count": 2,
   "metadata": {},
   "outputs": [
    {
     "name": "stdout",
     "output_type": "stream",
     "text": [
      "environment.yml\r\n"
     ]
    }
   ],
   "source": [
    "%ls ../ | grep 'environment'"
   ]
  },
  {
   "cell_type": "markdown",
   "metadata": {},
   "source": [
    "### Step 3: version control your data\n",
    "\n",
    "We'll put the data under version control using [Quilt T4](https://github.com/quiltdata/t4), which adds a layer of abstraction on top of Amazon S3. T4 allows you to manage data dependencies by defining data packages. These work much like code packages on GitHub once you've pushed them up.\n",
    "\n",
    "You should replace the `s3://quilt-example` path(s) in the code block that follows with paths in an S3 directory you have access to of your choice.\n",
    "\n",
    "Alternatively, you can just use regular blob storage, S3 or otherwise. In that case, make sure to track which *version* of each data point you wrote; if the data gets updated in between your writing it and someone else reading it, the model they build using the updated data will likely diverge from yours."
   ]
  },
  {
   "cell_type": "code",
   "execution_count": 5,
   "metadata": {},
   "outputs": [
    {
     "data": {
      "application/vnd.jupyter.widget-view+json": {
       "model_id": "1dd4f95ea73a418e9aef6b05f7e0e05b",
       "version_major": 2,
       "version_minor": 0
      },
      "text/plain": [
       "HBox(children=(IntProgress(value=0, description='Hashing', max=6187722221), HTML(value='')))"
      ]
     },
     "metadata": {},
     "output_type": "display_data"
    },
    {
     "name": "stdout",
     "output_type": "stream",
     "text": [
      "\n"
     ]
    },
    {
     "data": {
      "application/vnd.jupyter.widget-view+json": {
       "model_id": "d623ab2d2dde4b628fb65f1db8aa34a0",
       "version_major": 2,
       "version_minor": 0
      },
      "text/plain": [
       "HBox(children=(IntProgress(value=0, description='Copying', max=6187722221), HTML(value='')))"
      ]
     },
     "metadata": {},
     "output_type": "display_data"
    },
    {
     "name": "stdout",
     "output_type": "stream",
     "text": [
      "\n"
     ]
    },
    {
     "data": {
      "text/plain": [
       "README.md\n",
       "images/\n",
       "  .DS_Store\n",
       "  10006714784_9337d5d0e1_o.jpg\n",
       "  10014143174_1de79c8af8_o.jpg\n",
       "  10022662923_ab0567fe1a_o.jpg\n",
       "  10052146336_dc364e0a10_o.jpg\n",
       "  1006312339_d306fc933d_o.jpg\n",
       "  10065094283_0db2b64b2d_o.jpg\n",
       "  10102600246_6385283711_o.jpg\n",
       "  10123662565_4ab592b952_o.jpg\n",
       "  101266618_99a28a70ff_o.jpg\n",
       "  10148587244_f576b88c8f_o.jpg\n",
       "images_cropped/\n",
       "metadata/\n",
       "models/\n",
       "quilt_summarize.json\n",
       "summaries/\n",
       "summary_data/\n",
       "training_data/"
      ]
     },
     "execution_count": 5,
     "metadata": {},
     "output_type": "execute_result"
    }
   ],
   "source": [
    "import t4\n",
    "(t4.Package()\n",
    "     .set_dir('metadata/', '../data/metadata/')\n",
    "     .set_dir('training_data/', '../data/training/')\n",
    "     .set('models/latest.h5', '../models/clf.h5')\n",
    "     .set_dir('images/', '../data/images/')\n",
    "     .set_dir('images_cropped/', '../data/images_cropped/')\n",
    "     .set('README.md', '../README.md')\n",
    "     # Use the Quilt summarize feature to embed Vega visualizations of data attributes\n",
    "     .set_dir('summary_data/', '../data/summaries/')\n",
    "     .set_dir('summaries/', '../data/summaries/')\n",
    "     .set('quilt_summarize.json', '../quilt_summarize.json')\n",
    "     # Push it to the remote repository\n",
    "     # This pushes to the Quilt demo bucket\n",
    "     # You will need to update the destination path to some other S3 bucket you have access to\n",
    "     .push('quilt/open_images', dest='s3://quilt-example', registry='s3://quilt-example')\n",
    ")"
   ]
  },
  {
   "cell_type": "markdown",
   "metadata": {},
   "source": [
    "## Conclusion\n",
    "\n",
    "Having done all of the above means that you can now pull your own trainable copy of the model to disk with the following commands:\n",
    "\n",
    "```\n",
    "git clone https://github.com/quiltdata/open-images.git\n",
    "conda env create -f open-images/environment.yml\n",
    "source activate quilt-open-images-dev\n",
    "python -c \"import t4; t4.Package.install('s3://quilt-example', 'quilt/open_images', 'open-images/')\"\n",
    "```\n",
    "\n",
    "Alternatively, if you need just the model you can do the following to get it:\n",
    "\n",
    "```\n",
    "python -c \"import t4; t4.Package.browse('quilt/open_images', 's3://quilt-example')['models/latest.h5'].fetch('latest.h5')\"\n",
    "```"
   ]
  }
 ],
 "metadata": {
  "kernelspec": {
   "display_name": "Python 3",
   "language": "python",
   "name": "python3"
  },
  "language_info": {
   "codemirror_mode": {
    "name": "ipython",
    "version": 3
   },
   "file_extension": ".py",
   "mimetype": "text/x-python",
   "name": "python",
   "nbconvert_exporter": "python",
   "pygments_lexer": "ipython3",
   "version": "3.6.6"
  }
 },
 "nbformat": 4,
 "nbformat_minor": 2
}
